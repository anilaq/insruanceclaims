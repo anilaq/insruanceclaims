{
 "cells": [
  {
   "cell_type": "markdown",
   "metadata": {},
   "source": [
    "I have downloaded a dataset from kaggle that focuses on health insurance claims. \n",
    "This dataset focuses on provider fraud within Medicare. The dataset can be found on <https://www.kaggle.com/rohitrox/healthcare-provider-fraud-detection-analysis?select=Train_Outpatientdata-1542865627584.csv>\n",
    "\n",
    "The object of this validation project is to predict fraudulent claims. \n",
    "\n",
    "Healthcare fraud doesn't just happen with it's policy holders but it also exists with medical practices. It ranges from: \n",
    "-billing for services that wrre not provided, misrepresenting the service provided, duplicated submissions for the same service, up charging for a more expensive service that was not actually provided and billing an insurance company for something that is covered in order to cover the costs of something the claiment does not have coverage for. \n",
    "    "
   ]
  },
  {
   "cell_type": "code",
   "execution_count": null,
   "metadata": {},
   "outputs": [],
   "source": []
  }
 ],
 "metadata": {
  "kernelspec": {
   "display_name": "Python 3",
   "language": "python",
   "name": "python3"
  },
  "language_info": {
   "codemirror_mode": {
    "name": "ipython",
    "version": 3
   },
   "file_extension": ".py",
   "mimetype": "text/x-python",
   "name": "python",
   "nbconvert_exporter": "python",
   "pygments_lexer": "ipython3",
   "version": "3.7.4"
  }
 },
 "nbformat": 4,
 "nbformat_minor": 2
}
